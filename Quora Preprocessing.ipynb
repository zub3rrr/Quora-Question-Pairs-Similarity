{
 "cells": [
  {
   "cell_type": "markdown",
   "id": "9a28bc2f",
   "metadata": {
    "papermill": {
     "duration": 0.009483,
     "end_time": "2022-12-24T07:00:26.134684",
     "exception": false,
     "start_time": "2022-12-24T07:00:26.125201",
     "status": "completed"
    },
    "tags": []
   },
   "source": [
    "# Importing Important Libraries"
   ]
  },
  {
   "cell_type": "code",
   "execution_count": 1,
   "id": "cd3981bb",
   "metadata": {
    "execution": {
     "iopub.execute_input": "2022-12-24T07:00:26.151498Z",
     "iopub.status.busy": "2022-12-24T07:00:26.150625Z",
     "iopub.status.idle": "2022-12-24T07:00:45.194804Z",
     "shell.execute_reply": "2022-12-24T07:00:45.193252Z"
    },
    "papermill": {
     "duration": 19.056091,
     "end_time": "2022-12-24T07:00:45.198117",
     "exception": false,
     "start_time": "2022-12-24T07:00:26.142026",
     "status": "completed"
    },
    "tags": []
   },
   "outputs": [
    {
     "name": "stdout",
     "output_type": "stream",
     "text": [
      "Collecting Distance\r\n",
      "  Downloading Distance-0.1.3.tar.gz (180 kB)\r\n",
      "\u001b[2K     \u001b[90m━━━━━━━━━━━━━━━━━━━━━━━━━━━━━━━━━━━━━━━\u001b[0m \u001b[32m180.3/180.3 kB\u001b[0m \u001b[31m1.2 MB/s\u001b[0m eta \u001b[36m0:00:00\u001b[0m\r\n",
      "\u001b[?25h  Preparing metadata (setup.py) ... \u001b[?25l-\b \bdone\r\n",
      "\u001b[?25hBuilding wheels for collected packages: Distance\r\n",
      "  Building wheel for Distance (setup.py) ... \u001b[?25l-\b \b\\\b \bdone\r\n",
      "\u001b[?25h  Created wheel for Distance: filename=Distance-0.1.3-py3-none-any.whl size=16276 sha256=ea8bb31831c05d3feaf1dc86114130b55611361f18622abc0f5a4bac3ad242aa\r\n",
      "  Stored in directory: /root/.cache/pip/wheels/b2/10/1b/96fca621a1be378e2fe104cfb0d160bb6cdf3d04a3d35266cc\r\n",
      "Successfully built Distance\r\n",
      "Installing collected packages: Distance\r\n",
      "Successfully installed Distance-0.1.3\r\n",
      "\u001b[33mWARNING: Running pip as the 'root' user can result in broken permissions and conflicting behaviour with the system package manager. It is recommended to use a virtual environment instead: https://pip.pypa.io/warnings/venv\u001b[0m\u001b[33m\r\n",
      "\u001b[0m"
     ]
    },
    {
     "data": {
      "text/html": [
       "        <script type=\"text/javascript\">\n",
       "        window.PlotlyConfig = {MathJaxConfig: 'local'};\n",
       "        if (window.MathJax && window.MathJax.Hub && window.MathJax.Hub.Config) {window.MathJax.Hub.Config({SVG: {font: \"STIX-Web\"}});}\n",
       "        if (typeof require !== 'undefined') {\n",
       "        require.undef(\"plotly\");\n",
       "        requirejs.config({\n",
       "            paths: {\n",
       "                'plotly': ['https://cdn.plot.ly/plotly-2.14.0.min']\n",
       "            }\n",
       "        });\n",
       "        require(['plotly'], function(Plotly) {\n",
       "            window._Plotly = Plotly;\n",
       "        });\n",
       "        }\n",
       "        </script>\n",
       "        "
      ]
     },
     "metadata": {},
     "output_type": "display_data"
    }
   ],
   "source": [
    "!pip install Distance\n",
    "import numpy as np\n",
    "import pandas as pd\n",
    "import seaborn as sns\n",
    "import matplotlib.pyplot as plt\n",
    "from subprocess import check_output\n",
    "import plotly.offline as py\n",
    "import os\n",
    "import gc\n",
    "import re\n",
    "from nltk.corpus import stopwords\n",
    "import distance\n",
    "from nltk.stem import PorterStemmer\n",
    "from bs4 import BeautifulSoup\n",
    "import warnings\n",
    "warnings.filterwarnings(\"ignore\")\n",
    "from subprocess import check_output\n",
    "%matplotlib inline\n",
    "import plotly.offline as py\n",
    "py.init_notebook_mode(connected=True)\n",
    "import plotly.graph_objs as go\n",
    "import plotly.tools as tls\n",
    "from sklearn.manifold import TSNE\n",
    "# Import the Required lib packages for WORD-Cloud generation\n",
    "# https://stackoverflow.com/questions/45625434/how-to-install-wordcloud-in-python3-6\n",
    "from wordcloud import WordCloud, STOPWORDS\n",
    "from os import path\n",
    "%matplotlib inline\n",
    "import zipfile"
   ]
  },
  {
   "cell_type": "code",
   "execution_count": 2,
   "id": "15d0cdee",
   "metadata": {
    "execution": {
     "iopub.execute_input": "2022-12-24T07:00:45.214770Z",
     "iopub.status.busy": "2022-12-24T07:00:45.214279Z",
     "iopub.status.idle": "2022-12-24T07:00:45.227644Z",
     "shell.execute_reply": "2022-12-24T07:00:45.226396Z"
    },
    "papermill": {
     "duration": 0.025288,
     "end_time": "2022-12-24T07:00:45.230965",
     "exception": false,
     "start_time": "2022-12-24T07:00:45.205677",
     "status": "completed"
    },
    "tags": []
   },
   "outputs": [],
   "source": [
    "df_zip = zipfile.ZipFile('../input/quora-question-pairs/train.csv.zip')"
   ]
  },
  {
   "cell_type": "code",
   "execution_count": 3,
   "id": "72bffa17",
   "metadata": {
    "execution": {
     "iopub.execute_input": "2022-12-24T07:00:45.247909Z",
     "iopub.status.busy": "2022-12-24T07:00:45.247492Z",
     "iopub.status.idle": "2022-12-24T07:00:47.575438Z",
     "shell.execute_reply": "2022-12-24T07:00:47.574258Z"
    },
    "papermill": {
     "duration": 2.339678,
     "end_time": "2022-12-24T07:00:47.578045",
     "exception": false,
     "start_time": "2022-12-24T07:00:45.238367",
     "status": "completed"
    },
    "tags": []
   },
   "outputs": [
    {
     "data": {
      "text/html": [
       "<div>\n",
       "<style scoped>\n",
       "    .dataframe tbody tr th:only-of-type {\n",
       "        vertical-align: middle;\n",
       "    }\n",
       "\n",
       "    .dataframe tbody tr th {\n",
       "        vertical-align: top;\n",
       "    }\n",
       "\n",
       "    .dataframe thead th {\n",
       "        text-align: right;\n",
       "    }\n",
       "</style>\n",
       "<table border=\"1\" class=\"dataframe\">\n",
       "  <thead>\n",
       "    <tr style=\"text-align: right;\">\n",
       "      <th></th>\n",
       "      <th>id</th>\n",
       "      <th>qid1</th>\n",
       "      <th>qid2</th>\n",
       "      <th>question1</th>\n",
       "      <th>question2</th>\n",
       "      <th>is_duplicate</th>\n",
       "    </tr>\n",
       "  </thead>\n",
       "  <tbody>\n",
       "    <tr>\n",
       "      <th>0</th>\n",
       "      <td>0</td>\n",
       "      <td>1</td>\n",
       "      <td>2</td>\n",
       "      <td>What is the step by step guide to invest in sh...</td>\n",
       "      <td>What is the step by step guide to invest in sh...</td>\n",
       "      <td>0</td>\n",
       "    </tr>\n",
       "    <tr>\n",
       "      <th>1</th>\n",
       "      <td>1</td>\n",
       "      <td>3</td>\n",
       "      <td>4</td>\n",
       "      <td>What is the story of Kohinoor (Koh-i-Noor) Dia...</td>\n",
       "      <td>What would happen if the Indian government sto...</td>\n",
       "      <td>0</td>\n",
       "    </tr>\n",
       "    <tr>\n",
       "      <th>2</th>\n",
       "      <td>2</td>\n",
       "      <td>5</td>\n",
       "      <td>6</td>\n",
       "      <td>How can I increase the speed of my internet co...</td>\n",
       "      <td>How can Internet speed be increased by hacking...</td>\n",
       "      <td>0</td>\n",
       "    </tr>\n",
       "    <tr>\n",
       "      <th>3</th>\n",
       "      <td>3</td>\n",
       "      <td>7</td>\n",
       "      <td>8</td>\n",
       "      <td>Why am I mentally very lonely? How can I solve...</td>\n",
       "      <td>Find the remainder when [math]23^{24}[/math] i...</td>\n",
       "      <td>0</td>\n",
       "    </tr>\n",
       "    <tr>\n",
       "      <th>4</th>\n",
       "      <td>4</td>\n",
       "      <td>9</td>\n",
       "      <td>10</td>\n",
       "      <td>Which one dissolve in water quikly sugar, salt...</td>\n",
       "      <td>Which fish would survive in salt water?</td>\n",
       "      <td>0</td>\n",
       "    </tr>\n",
       "  </tbody>\n",
       "</table>\n",
       "</div>"
      ],
      "text/plain": [
       "   id  qid1  qid2                                          question1  \\\n",
       "0   0     1     2  What is the step by step guide to invest in sh...   \n",
       "1   1     3     4  What is the story of Kohinoor (Koh-i-Noor) Dia...   \n",
       "2   2     5     6  How can I increase the speed of my internet co...   \n",
       "3   3     7     8  Why am I mentally very lonely? How can I solve...   \n",
       "4   4     9    10  Which one dissolve in water quikly sugar, salt...   \n",
       "\n",
       "                                           question2  is_duplicate  \n",
       "0  What is the step by step guide to invest in sh...             0  \n",
       "1  What would happen if the Indian government sto...             0  \n",
       "2  How can Internet speed be increased by hacking...             0  \n",
       "3  Find the remainder when [math]23^{24}[/math] i...             0  \n",
       "4            Which fish would survive in salt water?             0  "
      ]
     },
     "execution_count": 3,
     "metadata": {},
     "output_type": "execute_result"
    }
   ],
   "source": [
    "# Loadind data \n",
    "df = pd.read_csv(df_zip.open('train.csv'))\n",
    "df.head()"
   ]
  },
  {
   "cell_type": "code",
   "execution_count": null,
   "id": "08068dea",
   "metadata": {
    "papermill": {
     "duration": 0.007563,
     "end_time": "2022-12-24T07:00:47.593078",
     "exception": false,
     "start_time": "2022-12-24T07:00:47.585515",
     "status": "completed"
    },
    "tags": []
   },
   "outputs": [],
   "source": []
  },
  {
   "cell_type": "code",
   "execution_count": null,
   "id": "f461aa62",
   "metadata": {
    "papermill": {
     "duration": 0.006881,
     "end_time": "2022-12-24T07:00:47.608887",
     "exception": false,
     "start_time": "2022-12-24T07:00:47.602006",
     "status": "completed"
    },
    "tags": []
   },
   "outputs": [],
   "source": []
  },
  {
   "cell_type": "markdown",
   "id": "d8753017",
   "metadata": {
    "papermill": {
     "duration": 0.006764,
     "end_time": "2022-12-24T07:00:47.622928",
     "exception": false,
     "start_time": "2022-12-24T07:00:47.616164",
     "status": "completed"
    },
    "tags": []
   },
   "source": [
    "# Basic understanding of given Dataset"
   ]
  },
  {
   "cell_type": "code",
   "execution_count": null,
   "id": "b3e9533a",
   "metadata": {
    "papermill": {
     "duration": 0.006659,
     "end_time": "2022-12-24T07:00:47.636597",
     "exception": false,
     "start_time": "2022-12-24T07:00:47.629938",
     "status": "completed"
    },
    "tags": []
   },
   "outputs": [],
   "source": []
  },
  {
   "cell_type": "code",
   "execution_count": null,
   "id": "e7a75d87",
   "metadata": {
    "papermill": {
     "duration": 0.006675,
     "end_time": "2022-12-24T07:00:47.650366",
     "exception": false,
     "start_time": "2022-12-24T07:00:47.643691",
     "status": "completed"
    },
    "tags": []
   },
   "outputs": [],
   "source": []
  },
  {
   "cell_type": "code",
   "execution_count": null,
   "id": "cc5983f9",
   "metadata": {
    "papermill": {
     "duration": 0.006817,
     "end_time": "2022-12-24T07:00:47.664278",
     "exception": false,
     "start_time": "2022-12-24T07:00:47.657461",
     "status": "completed"
    },
    "tags": []
   },
   "outputs": [],
   "source": []
  },
  {
   "cell_type": "code",
   "execution_count": null,
   "id": "4b52b88b",
   "metadata": {
    "papermill": {
     "duration": 0.006696,
     "end_time": "2022-12-24T07:00:47.677991",
     "exception": false,
     "start_time": "2022-12-24T07:00:47.671295",
     "status": "completed"
    },
    "tags": []
   },
   "outputs": [],
   "source": []
  },
  {
   "cell_type": "markdown",
   "id": "58ac2f37",
   "metadata": {
    "papermill": {
     "duration": 0.00707,
     "end_time": "2022-12-24T07:00:47.692654",
     "exception": false,
     "start_time": "2022-12-24T07:00:47.685584",
     "status": "completed"
    },
    "tags": []
   },
   "source": [
    "# Basic Feature Extraction"
   ]
  },
  {
   "cell_type": "code",
   "execution_count": null,
   "id": "0515df8a",
   "metadata": {
    "papermill": {
     "duration": 0.00698,
     "end_time": "2022-12-24T07:00:47.707035",
     "exception": false,
     "start_time": "2022-12-24T07:00:47.700055",
     "status": "completed"
    },
    "tags": []
   },
   "outputs": [],
   "source": []
  },
  {
   "cell_type": "code",
   "execution_count": null,
   "id": "99bf6925",
   "metadata": {
    "papermill": {
     "duration": 0.007111,
     "end_time": "2022-12-24T07:00:47.721738",
     "exception": false,
     "start_time": "2022-12-24T07:00:47.714627",
     "status": "completed"
    },
    "tags": []
   },
   "outputs": [],
   "source": []
  },
  {
   "cell_type": "code",
   "execution_count": null,
   "id": "78615439",
   "metadata": {
    "papermill": {
     "duration": 0.006748,
     "end_time": "2022-12-24T07:00:47.735574",
     "exception": false,
     "start_time": "2022-12-24T07:00:47.728826",
     "status": "completed"
    },
    "tags": []
   },
   "outputs": [],
   "source": []
  },
  {
   "cell_type": "code",
   "execution_count": null,
   "id": "2d7a39f9",
   "metadata": {
    "papermill": {
     "duration": 0.007528,
     "end_time": "2022-12-24T07:00:47.750421",
     "exception": false,
     "start_time": "2022-12-24T07:00:47.742893",
     "status": "completed"
    },
    "tags": []
   },
   "outputs": [],
   "source": []
  },
  {
   "cell_type": "code",
   "execution_count": null,
   "id": "222043c7",
   "metadata": {
    "papermill": {
     "duration": 0.006927,
     "end_time": "2022-12-24T07:00:47.764588",
     "exception": false,
     "start_time": "2022-12-24T07:00:47.757661",
     "status": "completed"
    },
    "tags": []
   },
   "outputs": [],
   "source": []
  },
  {
   "cell_type": "markdown",
   "id": "931cc0fc",
   "metadata": {
    "papermill": {
     "duration": 0.006922,
     "end_time": "2022-12-24T07:00:47.778641",
     "exception": false,
     "start_time": "2022-12-24T07:00:47.771719",
     "status": "completed"
    },
    "tags": []
   },
   "source": [
    "# Text Preprocessing "
   ]
  },
  {
   "cell_type": "code",
   "execution_count": null,
   "id": "a63abd66",
   "metadata": {
    "papermill": {
     "duration": 0.006901,
     "end_time": "2022-12-24T07:00:47.792685",
     "exception": false,
     "start_time": "2022-12-24T07:00:47.785784",
     "status": "completed"
    },
    "tags": []
   },
   "outputs": [],
   "source": []
  },
  {
   "cell_type": "code",
   "execution_count": null,
   "id": "44cbfad0",
   "metadata": {
    "papermill": {
     "duration": 0.006832,
     "end_time": "2022-12-24T07:00:47.806746",
     "exception": false,
     "start_time": "2022-12-24T07:00:47.799914",
     "status": "completed"
    },
    "tags": []
   },
   "outputs": [],
   "source": []
  },
  {
   "cell_type": "code",
   "execution_count": null,
   "id": "2ff27208",
   "metadata": {
    "papermill": {
     "duration": 0.006695,
     "end_time": "2022-12-24T07:00:47.820491",
     "exception": false,
     "start_time": "2022-12-24T07:00:47.813796",
     "status": "completed"
    },
    "tags": []
   },
   "outputs": [],
   "source": []
  },
  {
   "cell_type": "code",
   "execution_count": null,
   "id": "8a4a5a12",
   "metadata": {
    "papermill": {
     "duration": 0.006899,
     "end_time": "2022-12-24T07:00:47.835047",
     "exception": false,
     "start_time": "2022-12-24T07:00:47.828148",
     "status": "completed"
    },
    "tags": []
   },
   "outputs": [],
   "source": []
  },
  {
   "cell_type": "markdown",
   "id": "7df3f305",
   "metadata": {
    "papermill": {
     "duration": 0.006806,
     "end_time": "2022-12-24T07:00:47.848936",
     "exception": false,
     "start_time": "2022-12-24T07:00:47.842130",
     "status": "completed"
    },
    "tags": []
   },
   "source": [
    "# Dimensionality Reduction"
   ]
  },
  {
   "cell_type": "code",
   "execution_count": null,
   "id": "e349aacd",
   "metadata": {
    "papermill": {
     "duration": 0.006876,
     "end_time": "2022-12-24T07:00:47.862878",
     "exception": false,
     "start_time": "2022-12-24T07:00:47.856002",
     "status": "completed"
    },
    "tags": []
   },
   "outputs": [],
   "source": []
  },
  {
   "cell_type": "code",
   "execution_count": null,
   "id": "1ab1f6fa",
   "metadata": {
    "papermill": {
     "duration": 0.006917,
     "end_time": "2022-12-24T07:00:47.876808",
     "exception": false,
     "start_time": "2022-12-24T07:00:47.869891",
     "status": "completed"
    },
    "tags": []
   },
   "outputs": [],
   "source": []
  },
  {
   "cell_type": "code",
   "execution_count": null,
   "id": "4c987c54",
   "metadata": {
    "papermill": {
     "duration": 0.007013,
     "end_time": "2022-12-24T07:00:47.891691",
     "exception": false,
     "start_time": "2022-12-24T07:00:47.884678",
     "status": "completed"
    },
    "tags": []
   },
   "outputs": [],
   "source": []
  },
  {
   "cell_type": "code",
   "execution_count": null,
   "id": "dad31570",
   "metadata": {
    "papermill": {
     "duration": 0.006881,
     "end_time": "2022-12-24T07:00:47.905784",
     "exception": false,
     "start_time": "2022-12-24T07:00:47.898903",
     "status": "completed"
    },
    "tags": []
   },
   "outputs": [],
   "source": []
  },
  {
   "cell_type": "markdown",
   "id": "bb0e0eac",
   "metadata": {
    "papermill": {
     "duration": 0.007328,
     "end_time": "2022-12-24T07:00:47.920342",
     "exception": false,
     "start_time": "2022-12-24T07:00:47.913014",
     "status": "completed"
    },
    "tags": []
   },
   "source": [
    "# Converting Text Data to Suitable Vector Representation"
   ]
  },
  {
   "cell_type": "code",
   "execution_count": null,
   "id": "16c75875",
   "metadata": {
    "papermill": {
     "duration": 0.006844,
     "end_time": "2022-12-24T07:00:47.934460",
     "exception": false,
     "start_time": "2022-12-24T07:00:47.927616",
     "status": "completed"
    },
    "tags": []
   },
   "outputs": [],
   "source": []
  },
  {
   "cell_type": "code",
   "execution_count": null,
   "id": "08ac9a0e",
   "metadata": {
    "papermill": {
     "duration": 0.006898,
     "end_time": "2022-12-24T07:00:47.948548",
     "exception": false,
     "start_time": "2022-12-24T07:00:47.941650",
     "status": "completed"
    },
    "tags": []
   },
   "outputs": [],
   "source": []
  },
  {
   "cell_type": "code",
   "execution_count": null,
   "id": "adb067fd",
   "metadata": {
    "papermill": {
     "duration": 0.006842,
     "end_time": "2022-12-24T07:00:47.962516",
     "exception": false,
     "start_time": "2022-12-24T07:00:47.955674",
     "status": "completed"
    },
    "tags": []
   },
   "outputs": [],
   "source": []
  },
  {
   "cell_type": "code",
   "execution_count": null,
   "id": "1d387638",
   "metadata": {
    "papermill": {
     "duration": 0.00955,
     "end_time": "2022-12-24T07:00:47.979641",
     "exception": false,
     "start_time": "2022-12-24T07:00:47.970091",
     "status": "completed"
    },
    "tags": []
   },
   "outputs": [],
   "source": []
  }
 ],
 "metadata": {
  "kernelspec": {
   "display_name": "Python 3",
   "language": "python",
   "name": "python3"
  },
  "language_info": {
   "codemirror_mode": {
    "name": "ipython",
    "version": 3
   },
   "file_extension": ".py",
   "mimetype": "text/x-python",
   "name": "python",
   "nbconvert_exporter": "python",
   "pygments_lexer": "ipython3",
   "version": "3.7.12"
  },
  "papermill": {
   "default_parameters": {},
   "duration": 32.444581,
   "end_time": "2022-12-24T07:00:49.113022",
   "environment_variables": {},
   "exception": null,
   "input_path": "__notebook__.ipynb",
   "output_path": "__notebook__.ipynb",
   "parameters": {},
   "start_time": "2022-12-24T07:00:16.668441",
   "version": "2.3.4"
  }
 },
 "nbformat": 4,
 "nbformat_minor": 5
}
