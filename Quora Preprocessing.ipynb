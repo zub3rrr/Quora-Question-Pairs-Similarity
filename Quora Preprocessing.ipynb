{
 "cells": [
  {
   "cell_type": "markdown",
   "id": "b09ac71d",
   "metadata": {
    "papermill": {
     "duration": 0.00744,
     "end_time": "2022-12-24T07:05:16.444615",
     "exception": false,
     "start_time": "2022-12-24T07:05:16.437175",
     "status": "completed"
    },
    "tags": []
   },
   "source": [
    "# Importing Important Libraries"
   ]
  },
  {
   "cell_type": "code",
   "execution_count": 1,
   "id": "ce6390ea",
   "metadata": {
    "execution": {
     "iopub.execute_input": "2022-12-24T07:05:16.460404Z",
     "iopub.status.busy": "2022-12-24T07:05:16.459213Z",
     "iopub.status.idle": "2022-12-24T07:05:32.982794Z",
     "shell.execute_reply": "2022-12-24T07:05:32.981690Z"
    },
    "papermill": {
     "duration": 16.535038,
     "end_time": "2022-12-24T07:05:32.985824",
     "exception": false,
     "start_time": "2022-12-24T07:05:16.450786",
     "status": "completed"
    },
    "tags": []
   },
   "outputs": [
    {
     "name": "stdout",
     "output_type": "stream",
     "text": [
      "Collecting Distance\r\n",
      "  Downloading Distance-0.1.3.tar.gz (180 kB)\r\n",
      "\u001b[2K     \u001b[90m━━━━━━━━━━━━━━━━━━━━━━━━━━━━━━━━━━━━━━━\u001b[0m \u001b[32m180.3/180.3 kB\u001b[0m \u001b[31m2.9 MB/s\u001b[0m eta \u001b[36m0:00:00\u001b[0m\r\n",
      "\u001b[?25h  Preparing metadata (setup.py) ... \u001b[?25l-\b \bdone\r\n",
      "\u001b[?25hBuilding wheels for collected packages: Distance\r\n",
      "  Building wheel for Distance (setup.py) ... \u001b[?25l-\b \b\\\b \bdone\r\n",
      "\u001b[?25h  Created wheel for Distance: filename=Distance-0.1.3-py3-none-any.whl size=16276 sha256=56982b3df7a28acc1c3e560af33c42ade902a99953580e3e6de5bc8caff7066f\r\n",
      "  Stored in directory: /root/.cache/pip/wheels/b2/10/1b/96fca621a1be378e2fe104cfb0d160bb6cdf3d04a3d35266cc\r\n",
      "Successfully built Distance\r\n",
      "Installing collected packages: Distance\r\n",
      "Successfully installed Distance-0.1.3\r\n",
      "\u001b[33mWARNING: Running pip as the 'root' user can result in broken permissions and conflicting behaviour with the system package manager. It is recommended to use a virtual environment instead: https://pip.pypa.io/warnings/venv\u001b[0m\u001b[33m\r\n",
      "\u001b[0m"
     ]
    },
    {
     "data": {
      "text/html": [
       "        <script type=\"text/javascript\">\n",
       "        window.PlotlyConfig = {MathJaxConfig: 'local'};\n",
       "        if (window.MathJax && window.MathJax.Hub && window.MathJax.Hub.Config) {window.MathJax.Hub.Config({SVG: {font: \"STIX-Web\"}});}\n",
       "        if (typeof require !== 'undefined') {\n",
       "        require.undef(\"plotly\");\n",
       "        requirejs.config({\n",
       "            paths: {\n",
       "                'plotly': ['https://cdn.plot.ly/plotly-2.14.0.min']\n",
       "            }\n",
       "        });\n",
       "        require(['plotly'], function(Plotly) {\n",
       "            window._Plotly = Plotly;\n",
       "        });\n",
       "        }\n",
       "        </script>\n",
       "        "
      ]
     },
     "metadata": {},
     "output_type": "display_data"
    }
   ],
   "source": [
    "!pip install Distance\n",
    "import numpy as np\n",
    "import pandas as pd\n",
    "import seaborn as sns\n",
    "import matplotlib.pyplot as plt\n",
    "from subprocess import check_output\n",
    "import plotly.offline as py\n",
    "import os\n",
    "import gc\n",
    "import re\n",
    "from nltk.corpus import stopwords\n",
    "import distance\n",
    "from nltk.stem import PorterStemmer\n",
    "from bs4 import BeautifulSoup\n",
    "import warnings\n",
    "warnings.filterwarnings(\"ignore\")\n",
    "from subprocess import check_output\n",
    "%matplotlib inline\n",
    "import plotly.offline as py\n",
    "py.init_notebook_mode(connected=True)\n",
    "import plotly.graph_objs as go\n",
    "import plotly.tools as tls\n",
    "from sklearn.manifold import TSNE\n",
    "# Import the Required lib packages for WORD-Cloud generation\n",
    "# https://stackoverflow.com/questions/45625434/how-to-install-wordcloud-in-python3-6\n",
    "from wordcloud import WordCloud, STOPWORDS\n",
    "from os import path\n",
    "%matplotlib inline\n",
    "import zipfile"
   ]
  },
  {
   "cell_type": "code",
   "execution_count": 2,
   "id": "59bc92a5",
   "metadata": {
    "execution": {
     "iopub.execute_input": "2022-12-24T07:05:33.002026Z",
     "iopub.status.busy": "2022-12-24T07:05:33.001636Z",
     "iopub.status.idle": "2022-12-24T07:05:33.013417Z",
     "shell.execute_reply": "2022-12-24T07:05:33.012492Z"
    },
    "papermill": {
     "duration": 0.022969,
     "end_time": "2022-12-24T07:05:33.016145",
     "exception": false,
     "start_time": "2022-12-24T07:05:32.993176",
     "status": "completed"
    },
    "tags": []
   },
   "outputs": [],
   "source": [
    "df_zip = zipfile.ZipFile('../input/quora-question-pairs/train.csv.zip')"
   ]
  },
  {
   "cell_type": "code",
   "execution_count": 3,
   "id": "7df725b2",
   "metadata": {
    "execution": {
     "iopub.execute_input": "2022-12-24T07:05:33.032062Z",
     "iopub.status.busy": "2022-12-24T07:05:33.031593Z",
     "iopub.status.idle": "2022-12-24T07:05:35.019144Z",
     "shell.execute_reply": "2022-12-24T07:05:35.017836Z"
    },
    "papermill": {
     "duration": 1.998846,
     "end_time": "2022-12-24T07:05:35.022081",
     "exception": false,
     "start_time": "2022-12-24T07:05:33.023235",
     "status": "completed"
    },
    "tags": []
   },
   "outputs": [
    {
     "data": {
      "text/html": [
       "<div>\n",
       "<style scoped>\n",
       "    .dataframe tbody tr th:only-of-type {\n",
       "        vertical-align: middle;\n",
       "    }\n",
       "\n",
       "    .dataframe tbody tr th {\n",
       "        vertical-align: top;\n",
       "    }\n",
       "\n",
       "    .dataframe thead th {\n",
       "        text-align: right;\n",
       "    }\n",
       "</style>\n",
       "<table border=\"1\" class=\"dataframe\">\n",
       "  <thead>\n",
       "    <tr style=\"text-align: right;\">\n",
       "      <th></th>\n",
       "      <th>id</th>\n",
       "      <th>qid1</th>\n",
       "      <th>qid2</th>\n",
       "      <th>question1</th>\n",
       "      <th>question2</th>\n",
       "      <th>is_duplicate</th>\n",
       "    </tr>\n",
       "  </thead>\n",
       "  <tbody>\n",
       "    <tr>\n",
       "      <th>0</th>\n",
       "      <td>0</td>\n",
       "      <td>1</td>\n",
       "      <td>2</td>\n",
       "      <td>What is the step by step guide to invest in sh...</td>\n",
       "      <td>What is the step by step guide to invest in sh...</td>\n",
       "      <td>0</td>\n",
       "    </tr>\n",
       "    <tr>\n",
       "      <th>1</th>\n",
       "      <td>1</td>\n",
       "      <td>3</td>\n",
       "      <td>4</td>\n",
       "      <td>What is the story of Kohinoor (Koh-i-Noor) Dia...</td>\n",
       "      <td>What would happen if the Indian government sto...</td>\n",
       "      <td>0</td>\n",
       "    </tr>\n",
       "    <tr>\n",
       "      <th>2</th>\n",
       "      <td>2</td>\n",
       "      <td>5</td>\n",
       "      <td>6</td>\n",
       "      <td>How can I increase the speed of my internet co...</td>\n",
       "      <td>How can Internet speed be increased by hacking...</td>\n",
       "      <td>0</td>\n",
       "    </tr>\n",
       "    <tr>\n",
       "      <th>3</th>\n",
       "      <td>3</td>\n",
       "      <td>7</td>\n",
       "      <td>8</td>\n",
       "      <td>Why am I mentally very lonely? How can I solve...</td>\n",
       "      <td>Find the remainder when [math]23^{24}[/math] i...</td>\n",
       "      <td>0</td>\n",
       "    </tr>\n",
       "    <tr>\n",
       "      <th>4</th>\n",
       "      <td>4</td>\n",
       "      <td>9</td>\n",
       "      <td>10</td>\n",
       "      <td>Which one dissolve in water quikly sugar, salt...</td>\n",
       "      <td>Which fish would survive in salt water?</td>\n",
       "      <td>0</td>\n",
       "    </tr>\n",
       "  </tbody>\n",
       "</table>\n",
       "</div>"
      ],
      "text/plain": [
       "   id  qid1  qid2                                          question1  \\\n",
       "0   0     1     2  What is the step by step guide to invest in sh...   \n",
       "1   1     3     4  What is the story of Kohinoor (Koh-i-Noor) Dia...   \n",
       "2   2     5     6  How can I increase the speed of my internet co...   \n",
       "3   3     7     8  Why am I mentally very lonely? How can I solve...   \n",
       "4   4     9    10  Which one dissolve in water quikly sugar, salt...   \n",
       "\n",
       "                                           question2  is_duplicate  \n",
       "0  What is the step by step guide to invest in sh...             0  \n",
       "1  What would happen if the Indian government sto...             0  \n",
       "2  How can Internet speed be increased by hacking...             0  \n",
       "3  Find the remainder when [math]23^{24}[/math] i...             0  \n",
       "4            Which fish would survive in salt water?             0  "
      ]
     },
     "execution_count": 3,
     "metadata": {},
     "output_type": "execute_result"
    }
   ],
   "source": [
    "# Loadind data \n",
    "df = pd.read_csv(df_zip.open('train.csv'))\n",
    "df.head()"
   ]
  },
  {
   "cell_type": "code",
   "execution_count": 4,
   "id": "005c60c6",
   "metadata": {
    "execution": {
     "iopub.execute_input": "2022-12-24T07:05:35.038672Z",
     "iopub.status.busy": "2022-12-24T07:05:35.038261Z",
     "iopub.status.idle": "2022-12-24T07:05:35.123067Z",
     "shell.execute_reply": "2022-12-24T07:05:35.122164Z"
    },
    "papermill": {
     "duration": 0.095985,
     "end_time": "2022-12-24T07:05:35.125811",
     "exception": false,
     "start_time": "2022-12-24T07:05:35.029826",
     "status": "completed"
    },
    "tags": []
   },
   "outputs": [
    {
     "name": "stdout",
     "output_type": "stream",
     "text": [
      "<class 'pandas.core.frame.DataFrame'>\n",
      "RangeIndex: 404290 entries, 0 to 404289\n",
      "Data columns (total 6 columns):\n",
      " #   Column        Non-Null Count   Dtype \n",
      "---  ------        --------------   ----- \n",
      " 0   id            404290 non-null  int64 \n",
      " 1   qid1          404290 non-null  int64 \n",
      " 2   qid2          404290 non-null  int64 \n",
      " 3   question1     404289 non-null  object\n",
      " 4   question2     404288 non-null  object\n",
      " 5   is_duplicate  404290 non-null  int64 \n",
      "dtypes: int64(4), object(2)\n",
      "memory usage: 18.5+ MB\n"
     ]
    }
   ],
   "source": [
    "df.info()"
   ]
  },
  {
   "cell_type": "code",
   "execution_count": 5,
   "id": "edb94060",
   "metadata": {
    "execution": {
     "iopub.execute_input": "2022-12-24T07:05:35.144869Z",
     "iopub.status.busy": "2022-12-24T07:05:35.144117Z",
     "iopub.status.idle": "2022-12-24T07:05:35.388577Z",
     "shell.execute_reply": "2022-12-24T07:05:35.387377Z"
    },
    "papermill": {
     "duration": 0.256502,
     "end_time": "2022-12-24T07:05:35.391609",
     "exception": false,
     "start_time": "2022-12-24T07:05:35.135107",
     "status": "completed"
    },
    "tags": []
   },
   "outputs": [
    {
     "data": {
      "image/png": "[encoded data removed]",
      "text/plain": [
       "<Figure size 432x288 with 1 Axes>"
      ]
     },
     "metadata": {
      "needs_background": "light"
     },
     "output_type": "display_data"
    }
   ],
   "source": [
    "df.groupby(\"is_duplicate\")['id'].count().plot.bar();"
   ]
  },
  {
   "cell_type": "markdown",
   "id": "bfad992d",
   "metadata": {
    "papermill": {
     "duration": 0.007259,
     "end_time": "2022-12-24T07:05:35.406622",
     "exception": false,
     "start_time": "2022-12-24T07:05:35.399363",
     "status": "completed"
    },
    "tags": []
   },
   "source": [
    "# Basic understanding of given Dataset"
   ]
  },
  {
   "cell_type": "code",
   "execution_count": null,
   "id": "8e116596",
   "metadata": {
    "papermill": {
     "duration": 0.007109,
     "end_time": "2022-12-24T07:05:35.421428",
     "exception": false,
     "start_time": "2022-12-24T07:05:35.414319",
     "status": "completed"
    },
    "tags": []
   },
   "outputs": [],
   "source": []
  },
  {
   "cell_type": "code",
   "execution_count": null,
   "id": "1f17368c",
   "metadata": {
    "papermill": {
     "duration": 0.007308,
     "end_time": "2022-12-24T07:05:35.436366",
     "exception": false,
     "start_time": "2022-12-24T07:05:35.429058",
     "status": "completed"
    },
    "tags": []
   },
   "outputs": [],
   "source": []
  },
  {
   "cell_type": "code",
   "execution_count": null,
   "id": "e0f6889f",
   "metadata": {
    "papermill": {
     "duration": 0.007119,
     "end_time": "2022-12-24T07:05:35.450936",
     "exception": false,
     "start_time": "2022-12-24T07:05:35.443817",
     "status": "completed"
    },
    "tags": []
   },
   "outputs": [],
   "source": []
  },
  {
   "cell_type": "code",
   "execution_count": null,
   "id": "e413215d",
   "metadata": {
    "papermill": {
     "duration": 0.007304,
     "end_time": "2022-12-24T07:05:35.465664",
     "exception": false,
     "start_time": "2022-12-24T07:05:35.458360",
     "status": "completed"
    },
    "tags": []
   },
   "outputs": [],
   "source": []
  },
  {
   "cell_type": "markdown",
   "id": "facd4bca",
   "metadata": {
    "papermill": {
     "duration": 0.007286,
     "end_time": "2022-12-24T07:05:35.480768",
     "exception": false,
     "start_time": "2022-12-24T07:05:35.473482",
     "status": "completed"
    },
    "tags": []
   },
   "source": [
    "# Basic Feature Extraction"
   ]
  },
  {
   "cell_type": "code",
   "execution_count": null,
   "id": "172156f8",
   "metadata": {
    "papermill": {
     "duration": 0.007139,
     "end_time": "2022-12-24T07:05:35.495486",
     "exception": false,
     "start_time": "2022-12-24T07:05:35.488347",
     "status": "completed"
    },
    "tags": []
   },
   "outputs": [],
   "source": []
  },
  {
   "cell_type": "code",
   "execution_count": null,
   "id": "5befc958",
   "metadata": {
    "papermill": {
     "duration": 0.007179,
     "end_time": "2022-12-24T07:05:35.510331",
     "exception": false,
     "start_time": "2022-12-24T07:05:35.503152",
     "status": "completed"
    },
    "tags": []
   },
   "outputs": [],
   "source": []
  },
  {
   "cell_type": "code",
   "execution_count": null,
   "id": "7018a6f7",
   "metadata": {
    "papermill": {
     "duration": 0.008013,
     "end_time": "2022-12-24T07:05:35.525759",
     "exception": false,
     "start_time": "2022-12-24T07:05:35.517746",
     "status": "completed"
    },
    "tags": []
   },
   "outputs": [],
   "source": []
  },
  {
   "cell_type": "code",
   "execution_count": null,
   "id": "3cd5518c",
   "metadata": {
    "papermill": {
     "duration": 0.007186,
     "end_time": "2022-12-24T07:05:35.540590",
     "exception": false,
     "start_time": "2022-12-24T07:05:35.533404",
     "status": "completed"
    },
    "tags": []
   },
   "outputs": [],
   "source": []
  },
  {
   "cell_type": "code",
   "execution_count": null,
   "id": "1bf90584",
   "metadata": {
    "papermill": {
     "duration": 0.00703,
     "end_time": "2022-12-24T07:05:35.555132",
     "exception": false,
     "start_time": "2022-12-24T07:05:35.548102",
     "status": "completed"
    },
    "tags": []
   },
   "outputs": [],
   "source": []
  },
  {
   "cell_type": "markdown",
   "id": "4398dcf1",
   "metadata": {
    "papermill": {
     "duration": 0.007073,
     "end_time": "2022-12-24T07:05:35.569538",
     "exception": false,
     "start_time": "2022-12-24T07:05:35.562465",
     "status": "completed"
    },
    "tags": []
   },
   "source": [
    "# Text Preprocessing "
   ]
  },
  {
   "cell_type": "code",
   "execution_count": null,
   "id": "9b8f2d6f",
   "metadata": {
    "papermill": {
     "duration": 0.006929,
     "end_time": "2022-12-24T07:05:35.583696",
     "exception": false,
     "start_time": "2022-12-24T07:05:35.576767",
     "status": "completed"
    },
    "tags": []
   },
   "outputs": [],
   "source": []
  },
  {
   "cell_type": "code",
   "execution_count": null,
   "id": "ffbd9682",
   "metadata": {
    "papermill": {
     "duration": 0.007677,
     "end_time": "2022-12-24T07:05:35.598498",
     "exception": false,
     "start_time": "2022-12-24T07:05:35.590821",
     "status": "completed"
    },
    "tags": []
   },
   "outputs": [],
   "source": []
  },
  {
   "cell_type": "code",
   "execution_count": null,
   "id": "f587e97f",
   "metadata": {
    "papermill": {
     "duration": 0.006932,
     "end_time": "2022-12-24T07:05:35.612720",
     "exception": false,
     "start_time": "2022-12-24T07:05:35.605788",
     "status": "completed"
    },
    "tags": []
   },
   "outputs": [],
   "source": []
  },
  {
   "cell_type": "code",
   "execution_count": null,
   "id": "8f13f317",
   "metadata": {
    "papermill": {
     "duration": 0.007128,
     "end_time": "2022-12-24T07:05:35.627305",
     "exception": false,
     "start_time": "2022-12-24T07:05:35.620177",
     "status": "completed"
    },
    "tags": []
   },
   "outputs": [],
   "source": []
  },
  {
   "cell_type": "markdown",
   "id": "96bb47fe",
   "metadata": {
    "papermill": {
     "duration": 0.006932,
     "end_time": "2022-12-24T07:05:35.641458",
     "exception": false,
     "start_time": "2022-12-24T07:05:35.634526",
     "status": "completed"
    },
    "tags": []
   },
   "source": [
    "# Dimensionality Reduction"
   ]
  },
  {
   "cell_type": "code",
   "execution_count": null,
   "id": "d110e18a",
   "metadata": {
    "papermill": {
     "duration": 0.007024,
     "end_time": "2022-12-24T07:05:35.655767",
     "exception": false,
     "start_time": "2022-12-24T07:05:35.648743",
     "status": "completed"
    },
    "tags": []
   },
   "outputs": [],
   "source": []
  },
  {
   "cell_type": "code",
   "execution_count": null,
   "id": "8832c7e4",
   "metadata": {
    "papermill": {
     "duration": 0.006933,
     "end_time": "2022-12-24T07:05:35.669879",
     "exception": false,
     "start_time": "2022-12-24T07:05:35.662946",
     "status": "completed"
    },
    "tags": []
   },
   "outputs": [],
   "source": []
  },
  {
   "cell_type": "code",
   "execution_count": null,
   "id": "2c7d18cd",
   "metadata": {
    "papermill": {
     "duration": 0.00708,
     "end_time": "2022-12-24T07:05:35.684189",
     "exception": false,
     "start_time": "2022-12-24T07:05:35.677109",
     "status": "completed"
    },
    "tags": []
   },
   "outputs": [],
   "source": []
  },
  {
   "cell_type": "code",
   "execution_count": null,
   "id": "26e34ebb",
   "metadata": {
    "papermill": {
     "duration": 0.006954,
     "end_time": "2022-12-24T07:05:35.698360",
     "exception": false,
     "start_time": "2022-12-24T07:05:35.691406",
     "status": "completed"
    },
    "tags": []
   },
   "outputs": [],
   "source": []
  },
  {
   "cell_type": "markdown",
   "id": "fd447a94",
   "metadata": {
    "papermill": {
     "duration": 0.007019,
     "end_time": "2022-12-24T07:05:35.712626",
     "exception": false,
     "start_time": "2022-12-24T07:05:35.705607",
     "status": "completed"
    },
    "tags": []
   },
   "source": [
    "# Converting Text Data to Suitable Vector Representation"
   ]
  },
  {
   "cell_type": "code",
   "execution_count": null,
   "id": "66f2d466",
   "metadata": {
    "papermill": {
     "duration": 0.006926,
     "end_time": "2022-12-24T07:05:35.726915",
     "exception": false,
     "start_time": "2022-12-24T07:05:35.719989",
     "status": "completed"
    },
    "tags": []
   },
   "outputs": [],
   "source": []
  },
  {
   "cell_type": "code",
   "execution_count": null,
   "id": "a25d08d2",
   "metadata": {
    "papermill": {
     "duration": 0.007014,
     "end_time": "2022-12-24T07:05:35.741202",
     "exception": false,
     "start_time": "2022-12-24T07:05:35.734188",
     "status": "completed"
    },
    "tags": []
   },
   "outputs": [],
   "source": []
  },
  {
   "cell_type": "code",
   "execution_count": null,
   "id": "dafe4f4b",
   "metadata": {
    "papermill": {
     "duration": 0.006959,
     "end_time": "2022-12-24T07:05:35.755382",
     "exception": false,
     "start_time": "2022-12-24T07:05:35.748423",
     "status": "completed"
    },
    "tags": []
   },
   "outputs": [],
   "source": []
  },
  {
   "cell_type": "code",
   "execution_count": null,
   "id": "47553ac7",
   "metadata": {
    "papermill": {
     "duration": 0.00703,
     "end_time": "2022-12-24T07:05:35.769654",
     "exception": false,
     "start_time": "2022-12-24T07:05:35.762624",
     "status": "completed"
    },
    "tags": []
   },
   "outputs": [],
   "source": []
  }
 ],
 "metadata": {
  "kernelspec": {
   "display_name": "Python 3",
   "language": "python",
   "name": "python3"
  },
  "language_info": {
   "codemirror_mode": {
    "name": "ipython",
    "version": 3
   },
   "file_extension": ".py",
   "mimetype": "text/x-python",
   "name": "python",
   "nbconvert_exporter": "python",
   "pygments_lexer": "ipython3",
   "version": "3.7.12"
  },
  "papermill": {
   "default_parameters": {},
   "duration": 28.66462,
   "end_time": "2022-12-24T07:05:36.700372",
   "environment_variables": {},
   "exception": null,
   "input_path": "__notebook__.ipynb",
   "output_path": "__notebook__.ipynb",
   "parameters": {},
   "start_time": "2022-12-24T07:05:08.035752",
   "version": "2.3.4"
  }
 },
 "nbformat": 4,
 "nbformat_minor": 5
}
