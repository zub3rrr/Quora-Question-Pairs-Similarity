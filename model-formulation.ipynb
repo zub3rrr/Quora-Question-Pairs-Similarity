{
 "cells": [
  {
   "cell_type": "markdown",
   "id": "7a013957",
   "metadata": {
    "papermill": {
     "duration": 0.004274,
     "end_time": "2023-01-02T15:22:06.514055",
     "exception": false,
     "start_time": "2023-01-02T15:22:06.509781",
     "status": "completed"
    },
    "tags": []
   },
   "source": [
    "# Importing Libraries"
   ]
  },
  {
   "cell_type": "code",
   "execution_count": 1,
   "id": "f06bb0ea",
   "metadata": {
    "execution": {
     "iopub.execute_input": "2023-01-02T15:22:06.522725Z",
     "iopub.status.busy": "2023-01-02T15:22:06.522207Z",
     "iopub.status.idle": "2023-01-02T15:22:06.537123Z",
     "shell.execute_reply": "2023-01-02T15:22:06.536297Z"
    },
    "papermill": {
     "duration": 0.021729,
     "end_time": "2023-01-02T15:22:06.539159",
     "exception": false,
     "start_time": "2023-01-02T15:22:06.517430",
     "status": "completed"
    },
    "tags": []
   },
   "outputs": [],
   "source": [
    "# This function plots the confusion matrices given y_i, y_i_hat.\n",
    "def plot_confusion_matrix(test_y, predict_y):\n",
    "    C = confusion_matrix(test_y, predict_y)\n",
    "    # C = 9,9 matrix, each cell (i,j) represents number of points of class i are predicted class j\n",
    "    \n",
    "    A =(((C.T)/(C.sum(axis=1))).T)\n",
    "    #divid each element of the confusion matrix with the sum of elements in that column\n",
    "    \n",
    "    # C = [[1, 2],\n",
    "    #     [3, 4]]\n",
    "    # C.T = [[1, 3],\n",
    "    #        [2, 4]]\n",
    "    # C.sum(axis = 1)  axis=0 corresonds to columns and axis=1 corresponds to rows in two diamensional array\n",
    "    # C.sum(axix =1) = [[3, 7]]\n",
    "    # ((C.T)/(C.sum(axis=1))) = [[1/3, 3/7]\n",
    "    #                           [2/3, 4/7]]\n",
    "\n",
    "    # ((C.T)/(C.sum(axis=1))).T = [[1/3, 2/3]\n",
    "    #                           [3/7, 4/7]]\n",
    "    # sum of row elements = 1\n",
    "    \n",
    "    B =(C/C.sum(axis=0))\n",
    "    #divid each element of the confusion matrix with the sum of elements in that row\n",
    "    # C = [[1, 2],\n",
    "    #     [3, 4]]\n",
    "    # C.sum(axis = 0)  axis=0 corresonds to columns and axis=1 corresponds to rows in two diamensional array\n",
    "    # C.sum(axix =0) = [[4, 6]]\n",
    "    # (C/C.sum(axis=0)) = [[1/4, 2/6],\n",
    "    #                      [3/4, 4/6]] \n",
    "    plt.figure(figsize=(20,4))\n",
    "    \n",
    "    labels = [1,2]\n",
    "    # representing A in heatmap format\n",
    "    cmap=sns.light_palette(\"blue\")\n",
    "    plt.subplot(1, 3, 1)\n",
    "    sns.heatmap(C, annot=True, cmap=cmap, fmt=\".3f\", xticklabels=labels, yticklabels=labels)\n",
    "    plt.xlabel('Predicted Class')\n",
    "    plt.ylabel('Original Class')\n",
    "    plt.title(\"Confusion matrix\")\n",
    "    \n",
    "    plt.subplot(1, 3, 2)\n",
    "    sns.heatmap(B, annot=True, cmap=cmap, fmt=\".3f\", xticklabels=labels, yticklabels=labels)\n",
    "    plt.xlabel('Predicted Class')\n",
    "    plt.ylabel('Original Class')\n",
    "    plt.title(\"Precision matrix\")\n",
    "    \n",
    "    plt.subplot(1, 3, 3)\n",
    "    # representing B in heatmap format\n",
    "    sns.heatmap(A, annot=True, cmap=cmap, fmt=\".3f\", xticklabels=labels, yticklabels=labels)\n",
    "    plt.xlabel('Predicted Class')\n",
    "    plt.ylabel('Original Class')\n",
    "    plt.title(\"Recall matrix\")\n",
    "    \n",
    "    plt.show()"
   ]
  },
  {
   "cell_type": "code",
   "execution_count": 2,
   "id": "07546f78",
   "metadata": {
    "execution": {
     "iopub.execute_input": "2023-01-02T15:22:06.547347Z",
     "iopub.status.busy": "2023-01-02T15:22:06.546519Z",
     "iopub.status.idle": "2023-01-02T15:22:08.047906Z",
     "shell.execute_reply": "2023-01-02T15:22:08.046982Z"
    },
    "papermill": {
     "duration": 1.507882,
     "end_time": "2023-01-02T15:22:08.050360",
     "exception": false,
     "start_time": "2023-01-02T15:22:06.542478",
     "status": "completed"
    },
    "tags": []
   },
   "outputs": [],
   "source": [
    "import pandas as pd\n",
    "import matplotlib.pyplot as plt\n",
    "import re\n",
    "import time\n",
    "import warnings\n",
    "import sqlite3\n",
    "from sqlalchemy import create_engine # database connection\n",
    "import csv\n",
    "import os\n",
    "warnings.filterwarnings(\"ignore\")\n",
    "import datetime as dt\n",
    "import numpy as np\n",
    "from nltk.corpus import stopwords\n",
    "from sklearn.decomposition import TruncatedSVD\n",
    "from sklearn.preprocessing import normalize\n",
    "from sklearn.feature_extraction.text import CountVectorizer\n",
    "from sklearn.manifold import TSNE\n",
    "import seaborn as sns\n",
    "from sklearn.neighbors import KNeighborsClassifier\n",
    "from sklearn.metrics import confusion_matrix\n",
    "from sklearn.metrics import accuracy_score, log_loss\n",
    "from sklearn.feature_extraction.text import TfidfVectorizer\n",
    "from collections import Counter\n",
    "from scipy.sparse import hstack\n",
    "from sklearn.multiclass import OneVsRestClassifier\n",
    "from sklearn.svm import SVC\n",
    "# from sklearn.cross_validation import StratifiedKFold \n",
    "from sklearn.model_selection import StratifiedKFold\n",
    "from collections import Counter, defaultdict\n",
    "from sklearn.calibration import CalibratedClassifierCV\n",
    "from sklearn.naive_bayes import MultinomialNB\n",
    "from sklearn.naive_bayes import GaussianNB\n",
    "from sklearn.model_selection import train_test_split\n",
    "from sklearn.model_selection import GridSearchCV\n",
    "import math\n",
    "from sklearn.metrics import normalized_mutual_info_score\n",
    "from sklearn.ensemble import RandomForestClassifier\n",
    "from sklearn.metrics import confusion_matrix\n",
    "\n",
    "\n",
    "from sklearn.model_selection import cross_val_score\n",
    "from sklearn.linear_model import SGDClassifier\n",
    "from mlxtend.classifier import StackingClassifier\n",
    "\n",
    "from sklearn import model_selection\n",
    "from sklearn.linear_model import LogisticRegression\n",
    "from sklearn.metrics import precision_recall_curve, auc, roc_curve"
   ]
  },
  {
   "cell_type": "code",
   "execution_count": 3,
   "id": "2efdc177",
   "metadata": {
    "execution": {
     "iopub.execute_input": "2023-01-02T15:22:08.058265Z",
     "iopub.status.busy": "2023-01-02T15:22:08.057969Z",
     "iopub.status.idle": "2023-01-02T15:22:42.156038Z",
     "shell.execute_reply": "2023-01-02T15:22:42.155091Z"
    },
    "papermill": {
     "duration": 34.108599,
     "end_time": "2023-01-02T15:22:42.162437",
     "exception": false,
     "start_time": "2023-01-02T15:22:08.053838",
     "status": "completed"
    },
    "tags": []
   },
   "outputs": [
    {
     "data": {
      "text/html": [
       "<div>\n",
       "<style scoped>\n",
       "    .dataframe tbody tr th:only-of-type {\n",
       "        vertical-align: middle;\n",
       "    }\n",
       "\n",
       "    .dataframe tbody tr th {\n",
       "        vertical-align: top;\n",
       "    }\n",
       "\n",
       "    .dataframe thead th {\n",
       "        text-align: right;\n",
       "    }\n",
       "</style>\n",
       "<table border=\"1\" class=\"dataframe\">\n",
       "  <thead>\n",
       "    <tr style=\"text-align: right;\">\n",
       "      <th></th>\n",
       "      <th>Unnamed: 0</th>\n",
       "      <th>id</th>\n",
       "      <th>is_duplicate</th>\n",
       "      <th>cwc_min</th>\n",
       "      <th>cwc_max</th>\n",
       "      <th>csc_min</th>\n",
       "      <th>csc_max</th>\n",
       "      <th>ctc_min</th>\n",
       "      <th>ctc_max</th>\n",
       "      <th>last_word_eq</th>\n",
       "      <th>...</th>\n",
       "      <th>86_y</th>\n",
       "      <th>87_y</th>\n",
       "      <th>88_y</th>\n",
       "      <th>89_y</th>\n",
       "      <th>90_y</th>\n",
       "      <th>91_y</th>\n",
       "      <th>92_y</th>\n",
       "      <th>93_y</th>\n",
       "      <th>94_y</th>\n",
       "      <th>95_y</th>\n",
       "    </tr>\n",
       "  </thead>\n",
       "  <tbody>\n",
       "    <tr>\n",
       "      <th>0</th>\n",
       "      <td>0</td>\n",
       "      <td>0</td>\n",
       "      <td>0</td>\n",
       "      <td>0.999980</td>\n",
       "      <td>0.833319</td>\n",
       "      <td>0.999983</td>\n",
       "      <td>0.999983</td>\n",
       "      <td>0.916659</td>\n",
       "      <td>0.785709</td>\n",
       "      <td>0.0</td>\n",
       "      <td>...</td>\n",
       "      <td>3.969558</td>\n",
       "      <td>28.222729</td>\n",
       "      <td>36.632493</td>\n",
       "      <td>-9.604564</td>\n",
       "      <td>-1.282670</td>\n",
       "      <td>-15.204172</td>\n",
       "      <td>12.925817</td>\n",
       "      <td>-0.867089</td>\n",
       "      <td>22.081050</td>\n",
       "      <td>-15.542879</td>\n",
       "    </tr>\n",
       "    <tr>\n",
       "      <th>1</th>\n",
       "      <td>1</td>\n",
       "      <td>1</td>\n",
       "      <td>0</td>\n",
       "      <td>0.799984</td>\n",
       "      <td>0.399996</td>\n",
       "      <td>0.749981</td>\n",
       "      <td>0.599988</td>\n",
       "      <td>0.699993</td>\n",
       "      <td>0.466664</td>\n",
       "      <td>0.0</td>\n",
       "      <td>...</td>\n",
       "      <td>-23.952735</td>\n",
       "      <td>19.181594</td>\n",
       "      <td>38.195441</td>\n",
       "      <td>-21.501692</td>\n",
       "      <td>-19.197923</td>\n",
       "      <td>8.329967</td>\n",
       "      <td>4.524858</td>\n",
       "      <td>-12.455467</td>\n",
       "      <td>64.494825</td>\n",
       "      <td>-4.589959</td>\n",
       "    </tr>\n",
       "    <tr>\n",
       "      <th>2</th>\n",
       "      <td>2</td>\n",
       "      <td>2</td>\n",
       "      <td>0</td>\n",
       "      <td>0.399992</td>\n",
       "      <td>0.333328</td>\n",
       "      <td>0.399992</td>\n",
       "      <td>0.249997</td>\n",
       "      <td>0.399996</td>\n",
       "      <td>0.285712</td>\n",
       "      <td>0.0</td>\n",
       "      <td>...</td>\n",
       "      <td>16.818044</td>\n",
       "      <td>22.858728</td>\n",
       "      <td>49.634287</td>\n",
       "      <td>10.692153</td>\n",
       "      <td>-35.023456</td>\n",
       "      <td>-13.438970</td>\n",
       "      <td>-10.352275</td>\n",
       "      <td>6.024001</td>\n",
       "      <td>27.928444</td>\n",
       "      <td>-3.940404</td>\n",
       "    </tr>\n",
       "    <tr>\n",
       "      <th>3</th>\n",
       "      <td>3</td>\n",
       "      <td>3</td>\n",
       "      <td>0</td>\n",
       "      <td>0.000000</td>\n",
       "      <td>0.000000</td>\n",
       "      <td>0.000000</td>\n",
       "      <td>0.000000</td>\n",
       "      <td>0.000000</td>\n",
       "      <td>0.000000</td>\n",
       "      <td>0.0</td>\n",
       "      <td>...</td>\n",
       "      <td>-8.076668</td>\n",
       "      <td>-8.661811</td>\n",
       "      <td>23.562781</td>\n",
       "      <td>18.113977</td>\n",
       "      <td>-22.750974</td>\n",
       "      <td>-21.712061</td>\n",
       "      <td>-1.793455</td>\n",
       "      <td>3.109173</td>\n",
       "      <td>1.629791</td>\n",
       "      <td>-27.379069</td>\n",
       "    </tr>\n",
       "    <tr>\n",
       "      <th>4</th>\n",
       "      <td>4</td>\n",
       "      <td>4</td>\n",
       "      <td>0</td>\n",
       "      <td>0.399992</td>\n",
       "      <td>0.199998</td>\n",
       "      <td>0.999950</td>\n",
       "      <td>0.666644</td>\n",
       "      <td>0.571420</td>\n",
       "      <td>0.307690</td>\n",
       "      <td>0.0</td>\n",
       "      <td>...</td>\n",
       "      <td>20.038354</td>\n",
       "      <td>-7.121922</td>\n",
       "      <td>29.326785</td>\n",
       "      <td>-3.158665</td>\n",
       "      <td>-28.051102</td>\n",
       "      <td>-10.691120</td>\n",
       "      <td>-9.676437</td>\n",
       "      <td>15.828423</td>\n",
       "      <td>12.214419</td>\n",
       "      <td>-15.689719</td>\n",
       "    </tr>\n",
       "  </tbody>\n",
       "</table>\n",
       "<p>5 rows × 221 columns</p>\n",
       "</div>"
      ],
      "text/plain": [
       "   Unnamed: 0  id  is_duplicate   cwc_min   cwc_max   csc_min   csc_max  \\\n",
       "0           0   0             0  0.999980  0.833319  0.999983  0.999983   \n",
       "1           1   1             0  0.799984  0.399996  0.749981  0.599988   \n",
       "2           2   2             0  0.399992  0.333328  0.399992  0.249997   \n",
       "3           3   3             0  0.000000  0.000000  0.000000  0.000000   \n",
       "4           4   4             0  0.399992  0.199998  0.999950  0.666644   \n",
       "\n",
       "    ctc_min   ctc_max  last_word_eq  ...       86_y       87_y       88_y  \\\n",
       "0  0.916659  0.785709           0.0  ...   3.969558  28.222729  36.632493   \n",
       "1  0.699993  0.466664           0.0  ... -23.952735  19.181594  38.195441   \n",
       "2  0.399996  0.285712           0.0  ...  16.818044  22.858728  49.634287   \n",
       "3  0.000000  0.000000           0.0  ...  -8.076668  -8.661811  23.562781   \n",
       "4  0.571420  0.307690           0.0  ...  20.038354  -7.121922  29.326785   \n",
       "\n",
       "        89_y       90_y       91_y       92_y       93_y       94_y       95_y  \n",
       "0  -9.604564  -1.282670 -15.204172  12.925817  -0.867089  22.081050 -15.542879  \n",
       "1 -21.501692 -19.197923   8.329967   4.524858 -12.455467  64.494825  -4.589959  \n",
       "2  10.692153 -35.023456 -13.438970 -10.352275   6.024001  27.928444  -3.940404  \n",
       "3  18.113977 -22.750974 -21.712061  -1.793455   3.109173   1.629791 -27.379069  \n",
       "4  -3.158665 -28.051102 -10.691120  -9.676437  15.828423  12.214419 -15.689719  \n",
       "\n",
       "[5 rows x 221 columns]"
      ]
     },
     "execution_count": 3,
     "metadata": {},
     "output_type": "execute_result"
    }
   ],
   "source": [
    "# This final_features.csv is generated from the previous two iPython notebook generated locally \n",
    "# Using Kaggle for model is because limitation of local sys to train over large data\n",
    "data = pd.read_csv('/kaggle/input/final-features-qqp/final_features.csv')\n",
    "data.head()"
   ]
  },
  {
   "cell_type": "markdown",
   "id": "e2fb7dbe",
   "metadata": {
    "papermill": {
     "duration": 0.00316,
     "end_time": "2023-01-02T15:22:42.169230",
     "exception": false,
     "start_time": "2023-01-02T15:22:42.166070",
     "status": "completed"
    },
    "tags": []
   },
   "source": [
    "**The metric over which we will be evaluating our model is log-loss , therefore the value over which log loss can take values is \"[0,inf]\".\n",
    "For threshold upper value we will train a random model which will replicate worst case scenerio condition now the log loss obtained via this random model.**\n"
   ]
  },
  {
   "cell_type": "code",
   "execution_count": 4,
   "id": "11343dfa",
   "metadata": {
    "execution": {
     "iopub.execute_input": "2023-01-02T15:22:42.178641Z",
     "iopub.status.busy": "2023-01-02T15:22:42.177010Z",
     "iopub.status.idle": "2023-01-02T15:22:42.574753Z",
     "shell.execute_reply": "2023-01-02T15:22:42.573602Z"
    },
    "papermill": {
     "duration": 0.405016,
     "end_time": "2023-01-02T15:22:42.577623",
     "exception": false,
     "start_time": "2023-01-02T15:22:42.172607",
     "status": "completed"
    },
    "tags": []
   },
   "outputs": [
    {
     "data": {
      "text/plain": [
       "(121287, 221)"
      ]
     },
     "execution_count": 4,
     "metadata": {},
     "output_type": "execute_result"
    }
   ],
   "source": [
    "# First we will train over a sample of 30 per cent of actual data once concluded with which model to opt \n",
    "# Then we will train over entire data \n",
    "sample = data.sample(frac=0.3)\n",
    "sample.shape"
   ]
  },
  {
   "cell_type": "code",
   "execution_count": 5,
   "id": "ac98e067",
   "metadata": {
    "execution": {
     "iopub.execute_input": "2023-01-02T15:22:42.590725Z",
     "iopub.status.busy": "2023-01-02T15:22:42.590252Z",
     "iopub.status.idle": "2023-01-02T15:22:42.668281Z",
     "shell.execute_reply": "2023-01-02T15:22:42.667247Z"
    },
    "papermill": {
     "duration": 0.087545,
     "end_time": "2023-01-02T15:22:42.671329",
     "exception": false,
     "start_time": "2023-01-02T15:22:42.583784",
     "status": "completed"
    },
    "tags": []
   },
   "outputs": [],
   "source": [
    "y_true = sample['is_duplicate']\n",
    "sample.drop(['Unnamed: 0', 'id','is_duplicate'], axis=1, inplace=True)"
   ]
  },
  {
   "cell_type": "code",
   "execution_count": 6,
   "id": "3d1fdc25",
   "metadata": {
    "execution": {
     "iopub.execute_input": "2023-01-02T15:22:42.684120Z",
     "iopub.status.busy": "2023-01-02T15:22:42.683673Z",
     "iopub.status.idle": "2023-01-02T15:22:42.914473Z",
     "shell.execute_reply": "2023-01-02T15:22:42.913482Z"
    },
    "papermill": {
     "duration": 0.239523,
     "end_time": "2023-01-02T15:22:42.916843",
     "exception": false,
     "start_time": "2023-01-02T15:22:42.677320",
     "status": "completed"
    },
    "tags": []
   },
   "outputs": [],
   "source": [
    "X_train, X_test, y_train, y_test = train_test_split(sample, y_true, test_size=0.33, random_state=42)"
   ]
  },
  {
   "cell_type": "code",
   "execution_count": 7,
   "id": "e8d6d940",
   "metadata": {
    "execution": {
     "iopub.execute_input": "2023-01-02T15:22:42.925596Z",
     "iopub.status.busy": "2023-01-02T15:22:42.925306Z",
     "iopub.status.idle": "2023-01-02T15:22:42.931692Z",
     "shell.execute_reply": "2023-01-02T15:22:42.930798Z"
    },
    "papermill": {
     "duration": 0.013157,
     "end_time": "2023-01-02T15:22:42.933832",
     "exception": false,
     "start_time": "2023-01-02T15:22:42.920675",
     "status": "completed"
    },
    "tags": []
   },
   "outputs": [
    {
     "data": {
      "text/plain": [
       "((81262, 218), (40025, 218), (81262,), (40025,))"
      ]
     },
     "execution_count": 7,
     "metadata": {},
     "output_type": "execute_result"
    }
   ],
   "source": [
    "X_train.shape,X_test.shape,y_train.shape,y_test.shape"
   ]
  },
  {
   "cell_type": "code",
   "execution_count": 8,
   "id": "a1bbe930",
   "metadata": {
    "execution": {
     "iopub.execute_input": "2023-01-02T15:22:42.942134Z",
     "iopub.status.busy": "2023-01-02T15:22:42.941847Z",
     "iopub.status.idle": "2023-01-02T15:22:43.764908Z",
     "shell.execute_reply": "2023-01-02T15:22:43.763857Z"
    },
    "papermill": {
     "duration": 0.829562,
     "end_time": "2023-01-02T15:22:43.766998",
     "exception": false,
     "start_time": "2023-01-02T15:22:42.937436",
     "status": "completed"
    },
    "tags": []
   },
   "outputs": [
    {
     "name": "stdout",
     "output_type": "stream",
     "text": [
      "Log loss on test data using random model is : 0.8863731177488997\n"
     ]
    },
    {
     "data": {
      "image/png": "[encoded data removed]",
      "text/plain": [
       "<Figure size 1440x288 with 6 Axes>"
      ]
     },
     "metadata": {
      "needs_background": "light"
     },
     "output_type": "display_data"
    }
   ],
   "source": [
    "predicted_y = np.zeros((len(y_test),2))\n",
    "for i in range(len(y_test)):\n",
    "    rand_probs = np.random.rand(1,2)\n",
    "    predicted_y[i]=((rand_probs/sum(sum(rand_probs)))[0])\n",
    "print(\"Log loss on test data using random model is :\",log_loss(y_test,predicted_y))\n",
    "predicted_y = np.argmax(predicted_y,axis=1)\n",
    "plot_confusion_matrix(y_test,predicted_y)"
   ]
  },
  {
   "cell_type": "markdown",
   "id": "45e2efab",
   "metadata": {
    "papermill": {
     "duration": 0.00409,
     "end_time": "2023-01-02T15:22:43.775847",
     "exception": false,
     "start_time": "2023-01-02T15:22:43.771757",
     "status": "completed"
    },
    "tags": []
   },
   "source": [
    "**Hence it is clear that if any given algorithm is performing worst then 0.88 shouldn't be consideered therefore window for log loss is from 0 to 0.88**"
   ]
  },
  {
   "cell_type": "code",
   "execution_count": null,
   "id": "93551428",
   "metadata": {
    "papermill": {
     "duration": 0.004204,
     "end_time": "2023-01-02T15:22:43.784429",
     "exception": false,
     "start_time": "2023-01-02T15:22:43.780225",
     "status": "completed"
    },
    "tags": []
   },
   "outputs": [],
   "source": []
  },
  {
   "cell_type": "code",
   "execution_count": null,
   "id": "48652284",
   "metadata": {
    "papermill": {
     "duration": 0.003852,
     "end_time": "2023-01-02T15:22:43.792304",
     "exception": false,
     "start_time": "2023-01-02T15:22:43.788452",
     "status": "completed"
    },
    "tags": []
   },
   "outputs": [],
   "source": []
  },
  {
   "cell_type": "code",
   "execution_count": null,
   "id": "13838f30",
   "metadata": {
    "execution": {
     "iopub.execute_input": "2023-01-02T15:01:43.442838Z",
     "iopub.status.busy": "2023-01-02T15:01:43.442341Z",
     "iopub.status.idle": "2023-01-02T15:01:43.452315Z",
     "shell.execute_reply": "2023-01-02T15:01:43.451027Z",
     "shell.execute_reply.started": "2023-01-02T15:01:43.442796Z"
    },
    "papermill": {
     "duration": 0.003731,
     "end_time": "2023-01-02T15:22:43.800425",
     "exception": false,
     "start_time": "2023-01-02T15:22:43.796694",
     "status": "completed"
    },
    "tags": []
   },
   "outputs": [],
   "source": []
  },
  {
   "cell_type": "code",
   "execution_count": null,
   "id": "a3c286e4",
   "metadata": {
    "papermill": {
     "duration": 0.00407,
     "end_time": "2023-01-02T15:22:43.808452",
     "exception": false,
     "start_time": "2023-01-02T15:22:43.804382",
     "status": "completed"
    },
    "tags": []
   },
   "outputs": [],
   "source": []
  }
 ],
 "metadata": {
  "kernelspec": {
   "display_name": "Python 3",
   "language": "python",
   "name": "python3"
  },
  "language_info": {
   "codemirror_mode": {
    "name": "ipython",
    "version": 3
   },
   "file_extension": ".py",
   "mimetype": "text/x-python",
   "name": "python",
   "nbconvert_exporter": "python",
   "pygments_lexer": "ipython3",
   "version": "3.7.12"
  },
  "papermill": {
   "default_parameters": {},
   "duration": 45.68269,
   "end_time": "2023-01-02T15:22:44.432858",
   "environment_variables": {},
   "exception": null,
   "input_path": "__notebook__.ipynb",
   "output_path": "__notebook__.ipynb",
   "parameters": {},
   "start_time": "2023-01-02T15:21:58.750168",
   "version": "2.3.4"
  }
 },
 "nbformat": 4,
 "nbformat_minor": 5
}
